{
 "cells": [
  {
   "cell_type": "code",
   "execution_count": 1,
   "id": "4cd481ef-863f-4683-b616-3eea64ee305e",
   "metadata": {},
   "outputs": [],
   "source": [
    "import os\n",
    "import numpy as np\n",
    "import matplotlib.pyplot as plt\n",
    "import tensorflow as tf\n",
    "from tensorflow.keras.preprocessing.image import ImageDataGenerator\n",
    "from tensorflow.keras.applications import VGG16\n",
    "from tensorflow.keras.models import Model\n",
    "from tensorflow.keras.layers import Flatten, Dense, Dropout, GlobalAveragePooling2D\n",
    "from tensorflow.keras.callbacks import EarlyStopping, ReduceLROnPlateau, ModelCheckpoint"
   ]
  },
  {
   "cell_type": "code",
   "execution_count": 3,
   "id": "2955f686-4de6-499d-ba92-27fd44825d2a",
   "metadata": {},
   "outputs": [],
   "source": [
    "IMAGE_HEIGHT, IMAGE_WIDTH = 128, 128\n",
    "BATCH_SIZE = 32\n",
    "base_dir = r\"C:\\Users\\joeca\\Downloads\\chest_xray\""
   ]
  },
  {
   "cell_type": "code",
   "execution_count": null,
   "id": "133d609b-ec3c-47db-b166-651790f000fd",
   "metadata": {},
   "outputs": [],
   "source": [
    "from tensorflow.keras.applications import VGG16\n",
    "from tensorflow.keras.layers import GlobalAveragePooling2D, Dense, Dropout, BatchNormalization\n",
    "from tensorflow.keras.models import Model\n",
    "\n",
    "base_model = VGG16(weights='imagenet', include_top=False, input_shape=(IMAGE_HEIGHT, IMAGE_WIDTH, 3))\n",
    "\n",
    "for layer in base_model.layers:\n",
    "    layer.trainable = False\n",
    "\n",
    "x = base_model.output\n",
    "x = GlobalAveragePooling2D()(x)\n",
    "\n",
    "x = Dense(256, activation='relu')(x)\n",
    "x = BatchNormalization()(x)       \n",
    "x = Dropout(0.5)(x)\n",
    "\n",
    "x = Dense(128, activation='relu')(x)\n",
    "x = BatchNormalization()(x)\n",
    "x = Dropout(0.5)(x)\n",
    "\n",
    "x = Dense(64, activation='relu')(x)\n",
    "x = Dropout(0.3)(x)\n",
    "\n",
    "output = Dense(1, activation='sigmoid')(x)\n",
    "\n",
    "model_1 = Model(inputs=base_model.input, outputs=output)"
   ]
  },
  {
   "cell_type": "code",
   "execution_count": null,
   "id": "c026b8d4-26e0-4ec9-b3b7-fd79571b2249",
   "metadata": {},
   "outputs": [],
   "source": [
    "model_1.summary()"
   ]
  },
  {
   "cell_type": "code",
   "execution_count": null,
   "id": "b9f9c3ae-e36b-4ec0-9816-c3afe7b83f1b",
   "metadata": {},
   "outputs": [],
   "source": [
    "model_1.compile(\n",
    "    loss='binary_crossentropy',\n",
    "    optimizer='adam',\n",
    "    metrics=['accuracy']\n",
    ")"
   ]
  },
  {
   "cell_type": "code",
   "execution_count": null,
   "id": "c585ebb7-9699-4cd6-b0e4-c847be30ee09",
   "metadata": {},
   "outputs": [],
   "source": [
    "train_datagen = ImageDataGenerator(\n",
    "    rescale=1./255,\n",
    "    rotation_range=20,\n",
    "    width_shift_range=0.1,\n",
    "    height_shift_range=0.1,\n",
    "    shear_range=0.1,\n",
    "    zoom_range=0.1,\n",
    "    horizontal_flip=True,\n",
    "    fill_mode='nearest',\n",
    "    validation_split=0.1  \n",
    ")"
   ]
  },
  {
   "cell_type": "code",
   "execution_count": null,
   "id": "5c94918f-125a-45c5-ac9e-d586949e9c20",
   "metadata": {},
   "outputs": [],
   "source": [
    "train_generator = train_datagen.flow_from_directory(\n",
    "    os.path.join(base_dir, 'train'),\n",
    "    target_size=(IMAGE_HEIGHT, IMAGE_WIDTH),\n",
    "    batch_size=BATCH_SIZE,\n",
    "    class_mode='binary',\n",
    "    subset='training'\n",
    ")\n",
    "\n",
    "val_generator = train_datagen.flow_from_directory(\n",
    "    os.path.join(base_dir, 'train'),\n",
    "    target_size=(IMAGE_HEIGHT, IMAGE_WIDTH),\n",
    "    batch_size=BATCH_SIZE,\n",
    "    class_mode='binary',\n",
    "    subset='validation'\n",
    ")\n",
    "\n",
    "test_datagen = ImageDataGenerator(rescale=1./255)\n",
    "test_generator = test_datagen.flow_from_directory(\n",
    "    os.path.join(base_dir, 'test'),\n",
    "    target_size=(IMAGE_HEIGHT, IMAGE_WIDTH),\n",
    "    batch_size=BATCH_SIZE,\n",
    "    class_mode='binary',\n",
    "    shuffle=False\n",
    ")"
   ]
  },
  {
   "cell_type": "code",
   "execution_count": null,
   "id": "064bb1d7-cb54-4521-a4ae-3290e1a1e981",
   "metadata": {},
   "outputs": [],
   "source": [
    "early_stop = EarlyStopping(monitor='val_loss', patience=3, restore_best_weights=True)\n",
    "reduce_lr = ReduceLROnPlateau(monitor='val_loss', factor=0.2, patience=2, verbose=1, min_lr=1e-6)\n",
    "checkpoint = ModelCheckpoint('best_vgg16_model.h5', monitor='val_accuracy', save_best_only=True)"
   ]
  },
  {
   "cell_type": "code",
   "execution_count": null,
   "id": "8c8d4caf-6a42-4630-9463-1f7ed5bde83d",
   "metadata": {},
   "outputs": [],
   "source": [
    "history_1 = model_1.fit(\n",
    "    train_generator,\n",
    "    validation_data=val_generator,\n",
    "    epochs=20,\n",
    "    callbacks=[early_stop, reduce_lr, checkpoint]\n",
    ")\n"
   ]
  },
  {
   "cell_type": "code",
   "execution_count": null,
   "id": "a0990d33-bc7d-4361-9217-0d48b8d86a2a",
   "metadata": {},
   "outputs": [],
   "source": [
    "test_loss, test_accuracy = model_1.evaluate(test_generator)\n",
    "print(f\"Test Accuracy: {test_accuracy * 100:.2f}%\")\n",
    "print(f\"Test Loss: {test_loss:.4f}\")"
   ]
  },
  {
   "cell_type": "code",
   "execution_count": null,
   "id": "f9f4b50f-b7b3-4316-bdd4-5b936aa9e49e",
   "metadata": {},
   "outputs": [],
   "source": [
    "plt.figure(figsize=(12, 5))\n",
    "plt.subplot(1, 2, 1)\n",
    "plt.plot(history_1.history['accuracy'], label='Train Acc')\n",
    "plt.plot(history_1.history['val_accuracy'], label='Val Acc')\n",
    "plt.title('Accuracy')\n",
    "plt.xlabel('Epochs')\n",
    "plt.ylabel('Accuracy')\n",
    "plt.legend()\n",
    "\n",
    "plt.subplot(1, 2, 2)\n",
    "plt.plot(history_1.history['loss'], label='Train Loss')\n",
    "plt.plot(history_1.history['val_loss'], label='Val Loss')\n",
    "plt.title('Loss')\n",
    "plt.xlabel('Epochs')\n",
    "plt.ylabel('Loss')\n",
    "plt.legend()\n",
    "plt.tight_layout()\n",
    "plt.show()"
   ]
  },
  {
   "cell_type": "code",
   "execution_count": null,
   "id": "4b8b3bbf-75a2-42da-b0b6-8303a9f2b236",
   "metadata": {},
   "outputs": [],
   "source": [
    "filepath = r\"C:\\Users\\joeca\\PycharmProjects\\GPU_usage\\myenv\\model_weights_03\\vgg_model_new_01.h5\"\n",
    "model_1.save(filepath, overwrite=True)\n",
    "print('model saved at ',filepath)"
   ]
  },
  {
   "cell_type": "code",
   "execution_count": null,
   "id": "496fb296-838f-4622-8ad2-e4c77f554eed",
   "metadata": {},
   "outputs": [],
   "source": [
    "val_accuracies = history_1.history['val_accuracy']\n",
    "val_losses = history_1.history['val_loss']\n",
    "\n",
    "avg_val_accuracy = sum(val_accuracies) / len(val_accuracies)\n",
    "avg_val_loss = sum(val_losses) / len(val_losses)\n",
    "\n",
    "print(f\"Average Validation Accuracy: {avg_val_accuracy * 100:.2f}%\")\n",
    "print(f\"Average Validation Loss: {avg_val_loss:.4f}\")\n"
   ]
  },
  {
   "cell_type": "code",
   "execution_count": null,
   "id": "f301b1cb-4138-4c83-84f9-be8fb6daeddb",
   "metadata": {},
   "outputs": [],
   "source": [
    "import numpy as np\n",
    "from sklearn.metrics import confusion_matrix, classification_report\n",
    "import matplotlib.pyplot as plt\n",
    "import seaborn as sns\n",
    "\n",
    "test_generator.reset()\n",
    "\n",
    "pred_probs = model_1.predict(test_generator, verbose=1)\n",
    "pred_classes = (pred_probs > 0.5).astype(int).reshape(-1)\n",
    "\n",
    "true_classes = test_generator.classes\n",
    "\n",
    "class_labels = list(test_generator.class_indices.keys())\n",
    "\n",
    "cm = confusion_matrix(true_classes, pred_classes)\n",
    "\n",
    "plt.figure(figsize=(6, 4))\n",
    "sns.heatmap(cm, annot=True, fmt='d', cmap='Blues', xticklabels=class_labels, yticklabels=class_labels)\n",
    "plt.xlabel('Predicted')\n",
    "plt.ylabel('Actual')\n",
    "plt.title('Confusion Matrix')\n",
    "plt.show()\n",
    "\n",
    "print(\"\\nClassification Report:\")\n",
    "print(classification_report(true_classes, pred_classes, target_names=class_labels))"
   ]
  },
  {
   "cell_type": "code",
   "execution_count": null,
   "id": "e778bdd1-f523-4842-8658-4abadd6209a1",
   "metadata": {},
   "outputs": [],
   "source": [
    "import matplotlib.pyplot as plt\n",
    "\n",
    "# Get image file paths\n",
    "filenames = test_generator.filenames\n",
    "img_paths = [os.path.join(test_generator.directory, fname) for fname in filenames]\n",
    "\n",
    "plt.figure(figsize=(15, 8))\n",
    "for i in range(5):\n",
    "    img = plt.imread(img_paths[i])\n",
    "    label = class_labels[true_classes[i]]\n",
    "    pred = class_labels[pred_classes[i]]\n",
    "    plt.subplot(1, 5, i+1)\n",
    "    plt.imshow(img, cmap='gray')\n",
    "    plt.title(f\"True: {label}\\nPred: {pred}\", color='green' if label == pred else 'red')\n",
    "    plt.axis('off')\n",
    "plt.tight_layout()\n",
    "plt.show()"
   ]
  },
  {
   "cell_type": "code",
   "execution_count": null,
   "id": "a517c184-3a22-4f44-b1cb-458b70e6933c",
   "metadata": {},
   "outputs": [],
   "source": [
    "import numpy as np\n",
    "from tensorflow.keras.preprocessing import image\n",
    "from tensorflow.keras.models import load_model\n",
    "import matplotlib.pyplot as plt\n"
   ]
  },
  {
   "cell_type": "code",
   "execution_count": null,
   "id": "78c990f7-785c-4b41-9fce-013e983e334f",
   "metadata": {
    "scrolled": true
   },
   "outputs": [],
   "source": [
    "from tensorflow.keras.models import load_model\n",
    "\n",
    "model = load_model(r\"PycharmProjects/GPU_usage/myenv/model_weights_03/vgg_model_new_01.h5\")\n",
    "print(\"Model loaded successfully.\")\n"
   ]
  },
  {
   "cell_type": "code",
   "execution_count": null,
   "id": "0d9a0709-f290-4393-b84b-499b82c8a711",
   "metadata": {},
   "outputs": [],
   "source": [
    "img_path = r\"C:\\Users\\joeca\\Downloads\\chest_xray\\test\\NORMAL\\NORMAL2-IM-0325-0001.jpeg\"\n",
    "\n",
    "img = image.load_img(img_path, target_size=(128, 128))\n",
    "img_array = image.img_to_array(img)\n",
    "img_array = np.expand_dims(img_array, axis=0)\n",
    "img_array /= 255.0 "
   ]
  },
  {
   "cell_type": "code",
   "execution_count": null,
   "id": "bba5b966-a34a-40c1-abf1-159832cba531",
   "metadata": {},
   "outputs": [],
   "source": [
    "prediction = model.predict(img_array)\n",
    "\n",
    "class_label = \"PNEUMONIA\" if prediction[0][0] > 0.5 else \"NORMAL\"\n",
    "\n",
    "print(f\"Predicted Class: {class_label} (Confidence: {prediction[0][0]:.4f})\")"
   ]
  },
  {
   "cell_type": "code",
   "execution_count": null,
   "id": "f5bf7a89-e35c-4bc7-b0b8-8a074c442871",
   "metadata": {},
   "outputs": [],
   "source": [
    "from tensorflow.keras.models import load_model\n",
    "\n",
    "model = load_model(r\"PycharmProjects/GPU_usage/myenv/model_weights_03/vgg_model_new_01.h5\")\n",
    "print(\"Model loaded successfully.\")"
   ]
  },
  {
   "cell_type": "code",
   "execution_count": null,
   "id": "19c7fc28-3d80-4cf9-81a6-98108b768f6e",
   "metadata": {},
   "outputs": [],
   "source": [
    "for layer in model.layers:\n",
    "    if 'block5' in layer.name or 'block4' in layer.name: \n",
    "        layer.trainable = True\n"
   ]
  },
  {
   "cell_type": "code",
   "execution_count": null,
   "id": "5f4a5239-f067-4cfb-9a55-a1d72b9ceb9f",
   "metadata": {},
   "outputs": [],
   "source": [
    "from tensorflow.keras.optimizers import Adam\n",
    "\n",
    "model.compile(\n",
    "    loss='binary_crossentropy',\n",
    "    optimizer=Adam(learning_rate=1e-5),\n",
    "    metrics=['accuracy']\n",
    ")\n"
   ]
  },
  {
   "cell_type": "code",
   "execution_count": null,
   "id": "2456eaed-e97e-435c-a3fe-5d2ea65ef857",
   "metadata": {},
   "outputs": [],
   "source": [
    "history_finetune = model.fit(\n",
    "    train_generator,\n",
    "    validation_data=val_generator,\n",
    "    epochs=10,\n",
    "    callbacks=[early_stop, reduce_lr, checkpoint]\n",
    ")\n"
   ]
  },
  {
   "cell_type": "code",
   "execution_count": null,
   "id": "ad50c7d8-e380-4951-ab70-6f6a4a7dbbe5",
   "metadata": {},
   "outputs": [],
   "source": [
    "test_loss, test_accuracy = model.evaluate(test_generator)\n",
    "print(f\"Test Accuracy: {test_accuracy * 100:.2f}%\")\n",
    "print(f\"Test Loss: {test_loss:.4f}\")"
   ]
  },
  {
   "cell_type": "code",
   "execution_count": null,
   "id": "791d1e3f-583f-4584-8295-fc8fdb08c723",
   "metadata": {},
   "outputs": [],
   "source": [
    "plt.figure(figsize=(12, 5))\n",
    "plt.subplot(1, 2, 1)\n",
    "plt.plot(history_finetune.history['accuracy'], label='Train Acc')\n",
    "plt.plot(history_1.history['val_accuracy'], label='Val Acc')\n",
    "plt.title('Accuracy')\n",
    "plt.xlabel('Epochs')\n",
    "plt.ylabel('Accuracy')\n",
    "plt.legend()\n",
    "\n",
    "plt.subplot(1, 2, 2)\n",
    "plt.plot(history_finetune.history['loss'], label='Train Loss')\n",
    "plt.plot(history_finetune.history['val_loss'], label='Val Loss')\n",
    "plt.title('Loss')\n",
    "plt.xlabel('Epochs')\n",
    "plt.ylabel('Loss')\n",
    "plt.legend()\n",
    "plt.tight_layout()\n",
    "plt.show()"
   ]
  },
  {
   "cell_type": "code",
   "execution_count": null,
   "id": "3ea75f91-b285-40a7-b337-5d5a682f1149",
   "metadata": {},
   "outputs": [],
   "source": [
    "filepath = r\"C:\\Users\\joeca\\PycharmProjects\\GPU_usage\\myenv\\model_weights_03\\vgg_model_new_02.h5\"\n",
    "model.save(filepath, overwrite=True)\n",
    "print('model saved at ',filepath)"
   ]
  },
  {
   "cell_type": "code",
   "execution_count": null,
   "id": "f7fd11be-ce51-49fd-8cd9-e7fca6f42cc3",
   "metadata": {},
   "outputs": [],
   "source": [
    "val_accuracies = history_finetune.history['val_accuracy']\n",
    "val_losses = history_finetune.history['val_loss']\n",
    "\n",
    "avg_val_accuracy = sum(val_accuracies) / len(val_accuracies)\n",
    "avg_val_loss = sum(val_losses) / len(val_losses)\n",
    "\n",
    "print(f\"Average Validation Accuracy: {avg_val_accuracy * 100:.2f}%\")\n",
    "print(f\"Average Validation Loss: {avg_val_loss:.4f}\")"
   ]
  },
  {
   "cell_type": "code",
   "execution_count": null,
   "id": "295ed08a-742c-4b42-b7ca-cc48600d426b",
   "metadata": {},
   "outputs": [],
   "source": [
    "import numpy as np\n",
    "from sklearn.metrics import confusion_matrix, classification_report\n",
    "import matplotlib.pyplot as plt\n",
    "import seaborn as sns\n",
    "\n",
    "test_generator.reset()\n",
    "\n",
    "pred_probs = model.predict(test_generator, verbose=1)\n",
    "pred_classes = (pred_probs > 0.5).astype(int).reshape(-1)\n",
    "\n",
    "true_classes = test_generator.classes\n",
    "\n",
    "class_labels = list(test_generator.class_indices.keys())\n",
    "\n",
    "cm = confusion_matrix(true_classes, pred_classes)\n",
    "\n",
    "plt.figure(figsize=(6, 4))\n",
    "sns.heatmap(cm, annot=True, fmt='d', cmap='Blues', xticklabels=class_labels, yticklabels=class_labels)\n",
    "plt.xlabel('Predicted')\n",
    "plt.ylabel('Actual')\n",
    "plt.title('Confusion Matrix')\n",
    "plt.show()\n",
    "\n",
    "print(\"\\nClassification Report:\")\n",
    "print(classification_report(true_classes, pred_classes, target_names=class_labels))\n"
   ]
  },
  {
   "cell_type": "code",
   "execution_count": 5,
   "id": "91d3132f-3181-4c93-a89c-48c0b3090773",
   "metadata": {},
   "outputs": [
    {
     "name": "stdout",
     "output_type": "stream",
     "text": [
      "Model loaded successfully.\n"
     ]
    }
   ],
   "source": [
    "from tensorflow.keras.models import load_model\n",
    "\n",
    "model = load_model(r\"PycharmProjects/GPU_usage/myenv/model_weights_03/vgg_model_new_02.h5\")\n",
    "print(\"Model loaded successfully.\")"
   ]
  },
  {
   "cell_type": "code",
   "execution_count": 13,
   "id": "0d2245d3-b23f-4cda-ba04-5f97294a9685",
   "metadata": {},
   "outputs": [],
   "source": [
    "import numpy as np\n",
    "from tensorflow.keras.preprocessing import image\n",
    "from tensorflow.keras.models import load_model\n",
    "import matplotlib.pyplot as plt\n",
    "\n",
    "img_path = r\"C:\\Users\\joeca\\Downloads\\chest_xray\\test\\PNEUMONIA\\person80_bacteria_392.jpeg\"\n",
    "\n",
    "img = image.load_img(img_path, target_size=(128, 128))\n",
    "img_array = image.img_to_array(img)\n",
    "img_array = np.expand_dims(img_array, axis=0)\n",
    "img_array /= 255.0 "
   ]
  },
  {
   "cell_type": "code",
   "execution_count": 15,
   "id": "17e4f4eb-6259-4aad-9940-fae7be5aea55",
   "metadata": {},
   "outputs": [
    {
     "name": "stdout",
     "output_type": "stream",
     "text": [
      "1/1 [==============================] - 0s 19ms/step\n",
      "Predicted Class: PNEUMONIA (Confidence: 0.9945)\n"
     ]
    }
   ],
   "source": [
    "prediction = model.predict(img_array)\n",
    "\n",
    "class_label = \"PNEUMONIA\" if prediction[0][0] > 0.5 else \"NORMAL\"\n",
    "\n",
    "print(f\"Predicted Class: {class_label} (Confidence: {prediction[0][0]:.4f})\")"
   ]
  },
  {
   "cell_type": "code",
   "execution_count": null,
   "id": "6d5f7606-4ace-45c4-9c04-a98a69c8b9c7",
   "metadata": {},
   "outputs": [],
   "source": []
  }
 ],
 "metadata": {
  "kernelspec": {
   "display_name": "Python (myenv)",
   "language": "python",
   "name": "myenv"
  },
  "language_info": {
   "codemirror_mode": {
    "name": "ipython",
    "version": 3
   },
   "file_extension": ".py",
   "mimetype": "text/x-python",
   "name": "python",
   "nbconvert_exporter": "python",
   "pygments_lexer": "ipython3",
   "version": "3.10.11"
  }
 },
 "nbformat": 4,
 "nbformat_minor": 5
}
